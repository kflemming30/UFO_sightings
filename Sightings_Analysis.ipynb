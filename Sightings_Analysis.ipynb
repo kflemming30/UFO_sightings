{
 "cells": [
  {
   "cell_type": "markdown",
   "id": "8c5dd34f-4806-4ba3-8ef1-6e6823ff7df5",
   "metadata": {},
   "source": [
    "# **Unidentified Flying Analytics:**\n",
    "---\n",
    "### Project Overview\n",
    "\n",
    "From the description: What areas of the country are most likely to have UFO sightings? Are there any trends in UFO sightings over time? Do they tend to be clustered or seasonal? Do clusters of UFO sightings correlate with landmarks, such as airports or government research centers? What are the most common UFO descriptions?\n",
    "\n",
    "---\n",
    "### Dataset\n",
    "\n",
    "https://www.kaggle.com/NUFORC/ufo-sightings"
   ]
  },
  {
   "cell_type": "code",
   "execution_count": 1,
   "id": "ec1210e9-a819-4f6a-aeb7-948c221f0327",
   "metadata": {},
   "outputs": [],
   "source": [
    "import pandas as pd\n",
    "import requests\n",
    "import numpy as np\n",
    "import re\n",
    "import matplotlib.pyplot as plt\n",
    "import seaborn as sns\n",
    "from sklearn.preprocessing import *\n",
    "import zipfile\n",
    "import geopandas as gpd\n",
    "import glob"
   ]
  },
  {
   "cell_type": "code",
   "execution_count": 8,
   "id": "c0701124-c59a-4445-8524-19eb9e3440a1",
   "metadata": {},
   "outputs": [
    {
     "name": "stderr",
     "output_type": "stream",
     "text": [
      "C:\\Users\\12039\\AppData\\Local\\Temp\\ipykernel_32964\\4060272111.py:2: DtypeWarning: Columns (5,9) have mixed types. Specify dtype option on import or set low_memory=False.\n",
      "  ufo_data = pd.read_csv(file_path)\n"
     ]
    },
    {
     "data": {
      "text/html": [
       "<div>\n",
       "<style scoped>\n",
       "    .dataframe tbody tr th:only-of-type {\n",
       "        vertical-align: middle;\n",
       "    }\n",
       "\n",
       "    .dataframe tbody tr th {\n",
       "        vertical-align: top;\n",
       "    }\n",
       "\n",
       "    .dataframe thead th {\n",
       "        text-align: right;\n",
       "    }\n",
       "</style>\n",
       "<table border=\"1\" class=\"dataframe\">\n",
       "  <thead>\n",
       "    <tr style=\"text-align: right;\">\n",
       "      <th></th>\n",
       "      <th>datetime</th>\n",
       "      <th>city</th>\n",
       "      <th>state</th>\n",
       "      <th>country</th>\n",
       "      <th>shape</th>\n",
       "      <th>duration (seconds)</th>\n",
       "      <th>duration (hours/min)</th>\n",
       "      <th>comments</th>\n",
       "      <th>date posted</th>\n",
       "      <th>latitude</th>\n",
       "      <th>longitude</th>\n",
       "    </tr>\n",
       "  </thead>\n",
       "  <tbody>\n",
       "    <tr>\n",
       "      <th>0</th>\n",
       "      <td>10/10/1949 20:30</td>\n",
       "      <td>san marcos</td>\n",
       "      <td>tx</td>\n",
       "      <td>us</td>\n",
       "      <td>cylinder</td>\n",
       "      <td>2700</td>\n",
       "      <td>45 minutes</td>\n",
       "      <td>This event took place in early fall around 194...</td>\n",
       "      <td>4/27/2004</td>\n",
       "      <td>29.8830556</td>\n",
       "      <td>-97.941111</td>\n",
       "    </tr>\n",
       "    <tr>\n",
       "      <th>1</th>\n",
       "      <td>10/10/1949 21:00</td>\n",
       "      <td>lackland afb</td>\n",
       "      <td>tx</td>\n",
       "      <td>NaN</td>\n",
       "      <td>light</td>\n",
       "      <td>7200</td>\n",
       "      <td>1-2 hrs</td>\n",
       "      <td>1949 Lackland AFB&amp;#44 TX.  Lights racing acros...</td>\n",
       "      <td>12/16/2005</td>\n",
       "      <td>29.38421</td>\n",
       "      <td>-98.581082</td>\n",
       "    </tr>\n",
       "    <tr>\n",
       "      <th>2</th>\n",
       "      <td>10/10/1955 17:00</td>\n",
       "      <td>chester (uk/england)</td>\n",
       "      <td>NaN</td>\n",
       "      <td>gb</td>\n",
       "      <td>circle</td>\n",
       "      <td>20</td>\n",
       "      <td>20 seconds</td>\n",
       "      <td>Green/Orange circular disc over Chester&amp;#44 En...</td>\n",
       "      <td>1/21/2008</td>\n",
       "      <td>53.2</td>\n",
       "      <td>-2.916667</td>\n",
       "    </tr>\n",
       "    <tr>\n",
       "      <th>3</th>\n",
       "      <td>10/10/1956 21:00</td>\n",
       "      <td>edna</td>\n",
       "      <td>tx</td>\n",
       "      <td>us</td>\n",
       "      <td>circle</td>\n",
       "      <td>20</td>\n",
       "      <td>1/2 hour</td>\n",
       "      <td>My older brother and twin sister were leaving ...</td>\n",
       "      <td>1/17/2004</td>\n",
       "      <td>28.9783333</td>\n",
       "      <td>-96.645833</td>\n",
       "    </tr>\n",
       "    <tr>\n",
       "      <th>4</th>\n",
       "      <td>10/10/1960 20:00</td>\n",
       "      <td>kaneohe</td>\n",
       "      <td>hi</td>\n",
       "      <td>us</td>\n",
       "      <td>light</td>\n",
       "      <td>900</td>\n",
       "      <td>15 minutes</td>\n",
       "      <td>AS a Marine 1st Lt. flying an FJ4B fighter/att...</td>\n",
       "      <td>1/22/2004</td>\n",
       "      <td>21.4180556</td>\n",
       "      <td>-157.803611</td>\n",
       "    </tr>\n",
       "  </tbody>\n",
       "</table>\n",
       "</div>"
      ],
      "text/plain": [
       "           datetime                  city state country     shape  \\\n",
       "0  10/10/1949 20:30            san marcos    tx      us  cylinder   \n",
       "1  10/10/1949 21:00          lackland afb    tx     NaN     light   \n",
       "2  10/10/1955 17:00  chester (uk/england)   NaN      gb    circle   \n",
       "3  10/10/1956 21:00                  edna    tx      us    circle   \n",
       "4  10/10/1960 20:00               kaneohe    hi      us     light   \n",
       "\n",
       "  duration (seconds) duration (hours/min)  \\\n",
       "0               2700           45 minutes   \n",
       "1               7200              1-2 hrs   \n",
       "2                 20           20 seconds   \n",
       "3                 20             1/2 hour   \n",
       "4                900           15 minutes   \n",
       "\n",
       "                                            comments date posted    latitude  \\\n",
       "0  This event took place in early fall around 194...   4/27/2004  29.8830556   \n",
       "1  1949 Lackland AFB&#44 TX.  Lights racing acros...  12/16/2005    29.38421   \n",
       "2  Green/Orange circular disc over Chester&#44 En...   1/21/2008        53.2   \n",
       "3  My older brother and twin sister were leaving ...   1/17/2004  28.9783333   \n",
       "4  AS a Marine 1st Lt. flying an FJ4B fighter/att...   1/22/2004  21.4180556   \n",
       "\n",
       "   longitude   \n",
       "0  -97.941111  \n",
       "1  -98.581082  \n",
       "2   -2.916667  \n",
       "3  -96.645833  \n",
       "4 -157.803611  "
      ]
     },
     "execution_count": 8,
     "metadata": {},
     "output_type": "execute_result"
    }
   ],
   "source": [
    "file_path = 'C:\\\\Users\\\\12039\\\\Documents\\\\UFO_sightings\\\\scrubbed.csv'\n",
    "ufo_data = pd.read_csv(file_path)\n",
    "ufo_data.head()"
   ]
  },
  {
   "cell_type": "code",
   "execution_count": 9,
   "id": "4dbc29b4-a6c5-4c42-8d1c-825ed1aaaf05",
   "metadata": {},
   "outputs": [
    {
     "data": {
      "text/plain": [
       "datetime                 object\n",
       "city                     object\n",
       "state                    object\n",
       "country                  object\n",
       "shape                    object\n",
       "duration (seconds)       object\n",
       "duration (hours/min)     object\n",
       "comments                 object\n",
       "date posted              object\n",
       "latitude                 object\n",
       "longitude               float64\n",
       "dtype: object"
      ]
     },
     "execution_count": 9,
     "metadata": {},
     "output_type": "execute_result"
    }
   ],
   "source": [
    "ufo_data.dtypes"
   ]
  },
  {
   "cell_type": "code",
   "execution_count": 10,
   "id": "96d29a41-da09-4d45-a8dc-88f4f3b6c989",
   "metadata": {},
   "outputs": [
    {
     "name": "stdout",
     "output_type": "stream",
     "text": [
      "388      10/11/2006 24:00\n",
      "693       10/1/2001 24:00\n",
      "962       10/1/2012 24:00\n",
      "1067     10/12/2003 24:00\n",
      "1221     10/12/2013 24:00\n",
      "               ...       \n",
      "79136      9/4/2005 24:00\n",
      "79137      9/4/2005 24:00\n",
      "79740      9/7/2002 24:00\n",
      "79759      9/7/2004 24:00\n",
      "79942      9/8/2003 24:00\n",
      "Name: datetime, Length: 694, dtype: object\n"
     ]
    }
   ],
   "source": [
    "# Identify rows with problematic datetime values\n",
    "problematic_dates = ufo_data['datetime'].loc[ufo_data['datetime'].str.contains('24:00')]\n",
    "# Display rows with problematic datetime values after replacement\n",
    "print(problematic_dates)"
   ]
  },
  {
   "cell_type": "code",
   "execution_count": 11,
   "id": "75ad860e-9b89-4774-af21-2a1f435d5cf9",
   "metadata": {},
   "outputs": [],
   "source": [
    "# Replace the problematic values with an appropriate hour\n",
    "ufo_data['datetime'] = ufo_data['datetime'].str.replace('24:00', '00:00')\n",
    "# Convert the column to datetime\n",
    "ufo_data['datetime'] = pd.to_datetime(ufo_data['datetime'], errors='coerce')"
   ]
  },
  {
   "cell_type": "code",
   "execution_count": 14,
   "id": "765a40e9-e944-41a5-a374-b595f1e6423a",
   "metadata": {},
   "outputs": [],
   "source": [
    "ufo_data['date posted'] = pd.to_datetime(ufo_data['date posted'])"
   ]
  },
  {
   "cell_type": "code",
   "execution_count": 19,
   "id": "16c04476-3eb7-4c45-b41f-8e7d0e3ecc78",
   "metadata": {},
   "outputs": [],
   "source": [
    "ufo_data['duration (seconds)'] = pd.to_numeric(ufo_data['duration (seconds)'], errors='coerce')"
   ]
  },
  {
   "cell_type": "code",
   "execution_count": 20,
   "id": "e568abde-6c84-47e3-8701-688bf318bfca",
   "metadata": {},
   "outputs": [],
   "source": [
    "ufo_data['duration(minutes)'] = ufo_data['duration (seconds)']/60"
   ]
  },
  {
   "cell_type": "code",
   "execution_count": 22,
   "id": "db7f08a5-0a41-4dea-b051-4f957889bf32",
   "metadata": {},
   "outputs": [],
   "source": [
    "ufo_data['latitude'] = pd.to_numeric(ufo_data['latitude'], errors='coerce')"
   ]
  },
  {
   "cell_type": "code",
   "execution_count": 27,
   "id": "a472e5e1-9dfa-45d6-a36f-368a310ffa12",
   "metadata": {},
   "outputs": [
    {
     "data": {
      "text/plain": [
       "datetime                datetime64[ns]\n",
       "city                            object\n",
       "state                           object\n",
       "country                         object\n",
       "shape                           object\n",
       "duration (seconds)             float64\n",
       "duration (hours/min)            object\n",
       "comments                        object\n",
       "date posted             datetime64[ns]\n",
       "latitude                       float64\n",
       "longitude                      float64\n",
       "duration(minutes)              float64\n",
       "dtype: object"
      ]
     },
     "execution_count": 27,
     "metadata": {},
     "output_type": "execute_result"
    }
   ],
   "source": [
    "ufo_data.dtypes"
   ]
  },
  {
   "cell_type": "code",
   "execution_count": 18,
   "id": "0fefab23-06ab-49d2-b4c2-8adcb9e66a11",
   "metadata": {},
   "outputs": [
    {
     "data": {
      "text/plain": [
       "array(['cylinder', 'light', 'circle', 'sphere', 'disk', 'fireball',\n",
       "       'unknown', 'oval', 'other', 'cigar', 'rectangle', 'chevron',\n",
       "       'triangle', 'formation', nan, 'delta', 'changing', 'egg',\n",
       "       'diamond', 'flash', 'teardrop', 'cone', 'cross', 'pyramid',\n",
       "       'round', 'crescent', 'flare', 'hexagon', 'dome', 'changed'],\n",
       "      dtype=object)"
      ]
     },
     "execution_count": 18,
     "metadata": {},
     "output_type": "execute_result"
    }
   ],
   "source": [
    "ufo_data['shape'].unique()"
   ]
  },
  {
   "cell_type": "code",
   "execution_count": 24,
   "id": "bb8b8493-935d-46b2-88d6-802a956f4fe5",
   "metadata": {},
   "outputs": [
    {
     "data": {
      "text/plain": [
       "array(['us', nan, 'gb', 'ca', 'au', 'de'], dtype=object)"
      ]
     },
     "execution_count": 24,
     "metadata": {},
     "output_type": "execute_result"
    }
   ],
   "source": [
    "ufo_data['country'].unique()"
   ]
  },
  {
   "cell_type": "code",
   "execution_count": 25,
   "id": "1c7e7683-f5d8-445d-a1fe-dcde385b1f9e",
   "metadata": {},
   "outputs": [
    {
     "data": {
      "text/plain": [
       "array(['san marcos', 'lackland afb', 'chester (uk/england)', ...,\n",
       "       'calmar (canada)', 'aleksandrow (poland)', 'hamstead (hollyridge)'],\n",
       "      dtype=object)"
      ]
     },
     "execution_count": 25,
     "metadata": {},
     "output_type": "execute_result"
    }
   ],
   "source": [
    "ufo_data['city'].unique()"
   ]
  },
  {
   "cell_type": "code",
   "execution_count": 26,
   "id": "1141ccda-2f98-4298-a8ba-481cf1a7b899",
   "metadata": {},
   "outputs": [
    {
     "data": {
      "text/plain": [
       "array(['tx', nan, 'hi', 'tn', 'ct', 'al', 'fl', 'ca', 'nc', 'ny', 'ky',\n",
       "       'mi', 'ma', 'ks', 'sc', 'wa', 'ab', 'co', 'nh', 'wi', 'me', 'ga',\n",
       "       'pa', 'il', 'ar', 'on', 'mo', 'oh', 'in', 'az', 'mn', 'nv', 'nf',\n",
       "       'ne', 'or', 'bc', 'ia', 'va', 'id', 'nm', 'nj', 'mb', 'wv', 'ok',\n",
       "       'ri', 'nb', 'vt', 'la', 'pr', 'ak', 'ms', 'ut', 'md', 'mt', 'sk',\n",
       "       'wy', 'sd', 'pq', 'ns', 'qc', 'de', 'nd', 'dc', 'nt', 'sa', 'yt',\n",
       "       'yk', 'pe'], dtype=object)"
      ]
     },
     "execution_count": 26,
     "metadata": {},
     "output_type": "execute_result"
    }
   ],
   "source": [
    "ufo_data['state'].unique()"
   ]
  },
  {
   "cell_type": "code",
   "execution_count": 29,
   "id": "e4e4c22b-a06e-4c07-996f-19cb1340cb83",
   "metadata": {},
   "outputs": [
    {
     "name": "stdout",
     "output_type": "stream",
     "text": [
      "   state  sightings_count\n",
      "0     ak              319\n",
      "1     al              642\n",
      "2     ar              588\n",
      "3     az             2414\n",
      "4     ca             8912\n",
      "5     co             1413\n",
      "6     ct              892\n",
      "7     dc                7\n",
      "8     de              166\n",
      "9     fl             3835\n",
      "10    ga             1255\n",
      "11    hi              262\n",
      "12    ia              678\n",
      "13    id              521\n",
      "14    il             2499\n",
      "15    in             1288\n",
      "16    ks              613\n",
      "17    ky              855\n",
      "18    la              558\n",
      "19    ma             1256\n",
      "20    md              837\n",
      "21    me              558\n",
      "22    mi             1836\n",
      "23    mn             1012\n",
      "24    mo             1458\n",
      "25    ms              375\n",
      "26    mt              478\n",
      "27    nc             1740\n",
      "28    nd              129\n",
      "29    ne              381\n",
      "30    nh              486\n",
      "31    nj             1255\n",
      "32    nm              720\n",
      "33    nv              803\n",
      "34    ny             2980\n",
      "35    oh             2275\n",
      "36    ok              724\n",
      "37    or             1747\n",
      "38    pa             2366\n",
      "39    pr               25\n",
      "40    ri              228\n",
      "41    sc             1003\n",
      "42    sd              183\n",
      "43    tn             1119\n",
      "44    tx             3447\n",
      "45    ut              622\n",
      "46    va             1273\n",
      "47    vt              260\n",
      "48    wa             3966\n",
      "49    wi             1232\n",
      "50    wv              448\n",
      "51    wy              175\n"
     ]
    }
   ],
   "source": [
    "us_sightings = ufo_data[ufo_data['country'] == 'us']\n",
    "state_counts = us_sightings.groupby('state').size().reset_index(name='sightings_count')\n",
    "print(state_counts)"
   ]
  },
  {
   "cell_type": "code",
   "execution_count": null,
   "id": "30879cbc-7f49-4983-9e30-d4394efcd2f7",
   "metadata": {},
   "outputs": [],
   "source": []
  }
 ],
 "metadata": {
  "kernelspec": {
   "display_name": "Python 3 (ipykernel)",
   "language": "python",
   "name": "python3"
  },
  "language_info": {
   "codemirror_mode": {
    "name": "ipython",
    "version": 3
   },
   "file_extension": ".py",
   "mimetype": "text/x-python",
   "name": "python",
   "nbconvert_exporter": "python",
   "pygments_lexer": "ipython3",
   "version": "3.8.15"
  }
 },
 "nbformat": 4,
 "nbformat_minor": 5
}
